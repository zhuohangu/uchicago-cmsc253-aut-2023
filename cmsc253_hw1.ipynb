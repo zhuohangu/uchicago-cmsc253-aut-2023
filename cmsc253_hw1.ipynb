{
 "cells": [
  {
   "cell_type": "code",
   "execution_count": 2,
   "metadata": {},
   "outputs": [],
   "source": [
    "import numpy as np\n",
    "from IPython.display import display, Math, HTML\n",
    "import pandas as pd\n",
    "import random\n",
    "import scipy.io as sio\n",
    "import matplotlib.pyplot as plt\n",
    "from mpl_toolkits import mplot3d"
   ]
  },
  {
   "cell_type": "code",
   "execution_count": 6,
   "metadata": {},
   "outputs": [
    {
     "name": "stdout",
     "output_type": "stream",
     "text": [
      "a)\n",
      "X =  [[2.  2.  0.5 0.  0. ]\n",
      " [1.  2.  0.5 1.  0. ]\n",
      " [1.  0.  1.  3.  3. ]]\n",
      "b)\n"
     ]
    },
    {
     "data": {
      "text/latex": [
       "$\\displaystyle Xw1 = $"
      ],
      "text/plain": [
       "<IPython.core.display.Math object>"
      ]
     },
     "metadata": {},
     "output_type": "display_data"
    },
    {
     "data": {
      "text/plain": [
       "array([2.65, 1.75, 3.  ])"
      ]
     },
     "metadata": {},
     "output_type": "display_data"
    },
    {
     "name": "stdout",
     "output_type": "stream",
     "text": [
      "c)\n"
     ]
    },
    {
     "data": {
      "text/latex": [
       "$\\displaystyle w2^\\top X = $"
      ],
      "text/plain": [
       "<IPython.core.display.Math object>"
      ]
     },
     "metadata": {},
     "output_type": "display_data"
    },
    {
     "data": {
      "text/plain": [
       "array([3., 4., 1., 1., 0.])"
      ]
     },
     "metadata": {},
     "output_type": "display_data"
    },
    {
     "name": "stdout",
     "output_type": "stream",
     "text": [
      "d)\n"
     ]
    },
    {
     "data": {
      "text/latex": [
       "$\\displaystyle 3 * w2^\\top Xw1 = $"
      ],
      "text/plain": [
       "<IPython.core.display.Math object>"
      ]
     },
     "metadata": {},
     "output_type": "display_data"
    },
    {
     "data": {
      "text/plain": [
       "22.200000000000003"
      ]
     },
     "metadata": {},
     "output_type": "display_data"
    }
   ],
   "source": [
    "# 2.\n",
    "# a) Write the information as a matrix\n",
    "print(\"a)\")\n",
    "X = np.array([[2, 2, 0.5, 0, 0],[1, 2, 0.5, 1, 0],[1, 0, 1, 3, 3]])\n",
    "print(\"X = \", X)\n",
    "\n",
    "# b) matrix-vector multiplication that calculates expenses on every breakfast meal\n",
    "print(\"b)\")\n",
    "w1 = np.array([1, 0.2, 0.5, 0.1, 0.4])\n",
    "display(Math(rf'Xw1 = '),X@w1)\n",
    "\n",
    "# c) 1st row of X + 2nd row of X\n",
    "print(\"c)\")\n",
    "w2 = np.array([1, 1, 0])\n",
    "display(Math(rf'w2^\\top X = '),w2@X)\n",
    "\n",
    "# d) total expenses to make three portions of every meal\n",
    "print(\"d)\")\n",
    "w3 = np.array([1, 1, 1])\n",
    "display(Math(rf'3 * w2^\\top Xw1 = '),3 * w3@X@w1)"
   ]
  },
  {
   "cell_type": "code",
   "execution_count": 7,
   "metadata": {},
   "outputs": [
    {
     "name": "stdout",
     "output_type": "stream",
     "text": [
      "a)\n",
      "y =  [ 9  7  1 16]\n"
     ]
    },
    {
     "data": {
      "text/latex": [
       "$\\displaystyle Xw = $"
      ],
      "text/plain": [
       "<IPython.core.display.Math object>"
      ]
     },
     "metadata": {},
     "output_type": "display_data"
    },
    {
     "data": {
      "text/plain": [
       "array([ 9,  7,  1, 16])"
      ]
     },
     "metadata": {},
     "output_type": "display_data"
    },
    {
     "name": "stdout",
     "output_type": "stream",
     "text": [
      "b)\n",
      "[ True  True  True]\n",
      "[ True  True  True]\n",
      "[ True  True  True]\n",
      "[ True  True  True]\n",
      "c)\n",
      "3 times row2 of X plus 7 times row1 of X is\n"
     ]
    },
    {
     "data": {
      "text/latex": [
       "$\\displaystyle w3^\\top X = $"
      ],
      "text/plain": [
       "<IPython.core.display.Math object>"
      ]
     },
     "metadata": {},
     "output_type": "display_data"
    },
    {
     "data": {
      "text/plain": [
       "array([19., 13., 13.])"
      ]
     },
     "metadata": {},
     "output_type": "display_data"
    },
    {
     "name": "stdout",
     "output_type": "stream",
     "text": [
      "d)\n",
      "[ True  True  True  True]\n",
      "[ True  True  True  True]\n",
      "[ True  True  True  True]\n",
      "e)\n"
     ]
    },
    {
     "data": {
      "text/latex": [
       "$\\displaystyle Xw5 = $"
      ],
      "text/plain": [
       "<IPython.core.display.Math object>"
      ]
     },
     "metadata": {},
     "output_type": "display_data"
    },
    {
     "data": {
      "text/plain": [
       "array([  6,  23, -31,   5])"
      ]
     },
     "metadata": {},
     "output_type": "display_data"
    },
    {
     "name": "stdout",
     "output_type": "stream",
     "text": [
      "f)\n"
     ]
    },
    {
     "data": {
      "text/latex": [
       "$\\displaystyle XB = $"
      ],
      "text/plain": [
       "<IPython.core.display.Math object>"
      ]
     },
     "metadata": {},
     "output_type": "display_data"
    },
    {
     "data": {
      "text/plain": [
       "array([[  2,   9,  -5,   7],\n",
       "       [  4,   7,   1,   3],\n",
       "       [ -6,  -4,  -8,   2],\n",
       "       [  2,  14, -10,  12]])"
      ]
     },
     "metadata": {},
     "output_type": "display_data"
    }
   ],
   "source": [
    "# 3.\n",
    "X = np.array([[4, 1, 1,], [-3, 2, 2], [1, -3, 2], [5, 1, 3]])\n",
    "\n",
    "# a) Check Xw = y\n",
    "print(\"a)\")\n",
    "y = np.array([9, 7, 1, 16])\n",
    "w = np.array([1, 2, 3])\n",
    "print(\"y = \", y)\n",
    "display(Math('Xw = '), X@w)\n",
    "\n",
    "# b)\n",
    "print(\"b)\")\n",
    "Id = np.eye(4)\n",
    "for i in [1, 2, 3, 4]:\n",
    "    print(Id[i-1]@X == X[i-1])\n",
    "\n",
    "# c)\n",
    "print(\"c)\")\n",
    "i, j = random.sample(range(1, 5), 2)\n",
    "w3 = np.zeros(4)\n",
    "w3[i-1] = 3\n",
    "w3[j-1] = 7\n",
    "print(f'3 times row{i} of X plus 7 times row{j} of X is')\n",
    "display(Math(rf'w3^\\top X = '), w3@X)\n",
    "\n",
    "# d)\n",
    "print(\"d)\")\n",
    "Id = np.eye(3)\n",
    "for i in [1, 2, 3]:\n",
    "    print(X@Id[i-1] == X[:, i-1])\n",
    "\n",
    "# e) 10 * col2 - col1\n",
    "print(\"e)\")\n",
    "w5 = np.array([-1, 10, 0])\n",
    "display(Math('Xw5 = '), X@w5)\n",
    "\n",
    "# f) XB\n",
    "print(\"f)\")\n",
    "B = np.array([[0, 1, -1, 1], [2, 3, 1, 1], [0, 2, -2, 2]])\n",
    "display(Math('XB = '), np.dot(X, B))"
   ]
  },
  {
   "cell_type": "code",
   "execution_count": 13,
   "metadata": {},
   "outputs": [
    {
     "data": {
      "image/png": "[encoded data removed]",
      "text/plain": [
       "<Figure size 432x288 with 1 Axes>"
      ]
     },
     "metadata": {
      "needs_background": "light"
     },
     "output_type": "display_data"
    }
   ],
   "source": [
    "# n = number of points\n",
    "# z = points where polynomial is evaluated\n",
    "# p = array to store the values of the interpolated polynomials n = 100\n",
    "n = 100\n",
    "z_1 = np.linspace(-1, 1, n)\n",
    "z_2 = np.linspace(-1, 1, n)\n",
    "w_size = 6\n",
    "w = np.random.rand(w_size)\n",
    "X = np.zeros((n,w_size))\n",
    "\n",
    "# generate X-matrix\n",
    "for row in range(n):\n",
    "    for col in range(w_size):\n",
    "        if col < 3:\n",
    "            X[row][col] = z_1[row] ** col\n",
    "        elif col == 3:\n",
    "            X[row][col] = z_1[row] * z_2[row]\n",
    "        else:\n",
    "            X[row][col] = z_2[row] ** (col-3)\n",
    "\n",
    "# TODO: evaluate polynomial at all points z, # and store the result in p\n",
    "# do NOT use a loop for this\n",
    "p = X@w\n",
    "\n",
    "# plot the datapoints and the best-fit polynomials\n",
    "\n",
    "fig = plt.figure()\n",
    "# syntax for 3-D projection\n",
    "ax = plt.axes(projection ='3d')\n",
    "ax.plot3D(z_1,z_2, p, 'green')\n",
    "ax.set_xlabel(\"z_1\")\n",
    "ax.set_ylabel(\"z_2\")\n",
    "ax.set_zlabel(\"y\")\n",
    "ax.set_title('polynomial␣with␣coefficients␣w=%s'%w)\n",
    "plt.show()"
   ]
  }
 ],
 "metadata": {
  "kernelspec": {
   "display_name": "base",
   "language": "python",
   "name": "python3"
  },
  "language_info": {
   "codemirror_mode": {
    "name": "ipython",
    "version": 3
   },
   "file_extension": ".py",
   "mimetype": "text/x-python",
   "name": "python",
   "nbconvert_exporter": "python",
   "pygments_lexer": "ipython3",
   "version": "3.9.12"
  },
  "orig_nbformat": 4
 },
 "nbformat": 4,
 "nbformat_minor": 2
}
